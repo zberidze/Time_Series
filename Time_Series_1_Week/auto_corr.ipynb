{
  "nbformat": 4,
  "nbformat_minor": 0,
  "metadata": {
    "colab": {
      "provenance": []
    },
    "kernelspec": {
      "name": "python3",
      "display_name": "Python 3"
    },
    "language_info": {
      "name": "python"
    }
  },
  "cells": [
    {
      "cell_type": "markdown",
      "source": [
        "ve been dealing with autocorrelated data a lot lately. In finance, certain time series such as housing prices or private equity returns are notoriously autocorrelated. Properly accounting for this autocorrelation is critical to building a robust model."
      ],
      "metadata": {
        "id": "VM8F3x48MNiU"
      }
    },
    {
      "cell_type": "markdown",
      "source": [
        "First, what is autocorrelation? Autocorrelation is when past observations have an impact on current ones. For example, if you could use Apple’s returns last week to reliably predict its returns this week, then you can say that Apple’s stock price returns are autocorrelated. In math terms:"
      ],
      "metadata": {
        "id": "3q-qgusPMR2G"
      }
    },
    {
      "cell_type": "markdown",
      "source": [
        "![image.png](data:image/png;base64,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)"
      ],
      "metadata": {
        "id": "PL-T6kSoMgcG"
      }
    },
    {
      "cell_type": "markdown",
      "source": [
        "Why Do We Care About Autocorrelation?\n",
        "Two reasons come to my mind:\n",
        "\n",
        "Many things are autocorrelated. So when we attempt to study the world by building simulations (e.g. Monte Carlo simulations of the economy), we need to take that autocorrelation into account. Otherwise our model would produce faulty results (see reason 2 for why).\n",
        "Autocorrelation causes volatility to be understated, especially when compounded. The compounded product, that is (1+r1)*(1+r2)… of an autocorrelated random variable can have a much wider distribution of outcomes than that of a random variable with no autocorrelation."
      ],
      "metadata": {
        "id": "fz2auKO-Mn2v"
      }
    },
    {
      "cell_type": "markdown",
      "source": [
        "Let’s use some actual data to study this. I downloaded some CPI data from FRED (the data repository of the Federal Reserve Bank of St. Louis). It looks like this:"
      ],
      "metadata": {
        "id": "gVHPMy7eMqPp"
      }
    },
    {
      "cell_type": "code",
      "source": [
        "import numpy as np\n",
        "import pandas as pd\n",
        "import seaborn as sns\n",
        "from matplotlib import pyplot as plt\n",
        "import plotly.express as px\n",
        "\n",
        "%matplotlib inline"
      ],
      "metadata": {
        "id": "B1llN2ugMSRI"
      },
      "execution_count": 1,
      "outputs": []
    },
    {
      "cell_type": "code",
      "source": [
        "df=pd.read_csv(\"CPIAUCSL.csv\" )"
      ],
      "metadata": {
        "id": "ALe5_EJ6OrcB"
      },
      "execution_count": 14,
      "outputs": []
    },
    {
      "cell_type": "code",
      "source": [
        "df"
      ],
      "metadata": {
        "colab": {
          "base_uri": "https://localhost:8080/",
          "height": 424
        },
        "id": "U22ivbqZOvyi",
        "outputId": "6930003b-c8d1-432a-d980-8f9aa5de02f5"
      },
      "execution_count": 15,
      "outputs": [
        {
          "output_type": "execute_result",
          "data": {
            "text/plain": [
              "           DATE  CPIAUCSL\n",
              "0    1947-01-01    21.480\n",
              "1    1947-02-01    21.620\n",
              "2    1947-03-01    22.000\n",
              "3    1947-04-01    22.000\n",
              "4    1947-05-01    21.950\n",
              "..          ...       ...\n",
              "908  2022-09-01   296.539\n",
              "909  2022-10-01   297.987\n",
              "910  2022-11-01   298.598\n",
              "911  2022-12-01   298.990\n",
              "912  2023-01-01   300.536\n",
              "\n",
              "[913 rows x 2 columns]"
            ],
            "text/html": [
              "\n",
              "  <div id=\"df-63dea3ef-f233-482e-9b99-add6b8b73a7c\">\n",
              "    <div class=\"colab-df-container\">\n",
              "      <div>\n",
              "<style scoped>\n",
              "    .dataframe tbody tr th:only-of-type {\n",
              "        vertical-align: middle;\n",
              "    }\n",
              "\n",
              "    .dataframe tbody tr th {\n",
              "        vertical-align: top;\n",
              "    }\n",
              "\n",
              "    .dataframe thead th {\n",
              "        text-align: right;\n",
              "    }\n",
              "</style>\n",
              "<table border=\"1\" class=\"dataframe\">\n",
              "  <thead>\n",
              "    <tr style=\"text-align: right;\">\n",
              "      <th></th>\n",
              "      <th>DATE</th>\n",
              "      <th>CPIAUCSL</th>\n",
              "    </tr>\n",
              "  </thead>\n",
              "  <tbody>\n",
              "    <tr>\n",
              "      <th>0</th>\n",
              "      <td>1947-01-01</td>\n",
              "      <td>21.480</td>\n",
              "    </tr>\n",
              "    <tr>\n",
              "      <th>1</th>\n",
              "      <td>1947-02-01</td>\n",
              "      <td>21.620</td>\n",
              "    </tr>\n",
              "    <tr>\n",
              "      <th>2</th>\n",
              "      <td>1947-03-01</td>\n",
              "      <td>22.000</td>\n",
              "    </tr>\n",
              "    <tr>\n",
              "      <th>3</th>\n",
              "      <td>1947-04-01</td>\n",
              "      <td>22.000</td>\n",
              "    </tr>\n",
              "    <tr>\n",
              "      <th>4</th>\n",
              "      <td>1947-05-01</td>\n",
              "      <td>21.950</td>\n",
              "    </tr>\n",
              "    <tr>\n",
              "      <th>...</th>\n",
              "      <td>...</td>\n",
              "      <td>...</td>\n",
              "    </tr>\n",
              "    <tr>\n",
              "      <th>908</th>\n",
              "      <td>2022-09-01</td>\n",
              "      <td>296.539</td>\n",
              "    </tr>\n",
              "    <tr>\n",
              "      <th>909</th>\n",
              "      <td>2022-10-01</td>\n",
              "      <td>297.987</td>\n",
              "    </tr>\n",
              "    <tr>\n",
              "      <th>910</th>\n",
              "      <td>2022-11-01</td>\n",
              "      <td>298.598</td>\n",
              "    </tr>\n",
              "    <tr>\n",
              "      <th>911</th>\n",
              "      <td>2022-12-01</td>\n",
              "      <td>298.990</td>\n",
              "    </tr>\n",
              "    <tr>\n",
              "      <th>912</th>\n",
              "      <td>2023-01-01</td>\n",
              "      <td>300.536</td>\n",
              "    </tr>\n",
              "  </tbody>\n",
              "</table>\n",
              "<p>913 rows × 2 columns</p>\n",
              "</div>\n",
              "      <button class=\"colab-df-convert\" onclick=\"convertToInteractive('df-63dea3ef-f233-482e-9b99-add6b8b73a7c')\"\n",
              "              title=\"Convert this dataframe to an interactive table.\"\n",
              "              style=\"display:none;\">\n",
              "        \n",
              "  <svg xmlns=\"http://www.w3.org/2000/svg\" height=\"24px\"viewBox=\"0 0 24 24\"\n",
              "       width=\"24px\">\n",
              "    <path d=\"M0 0h24v24H0V0z\" fill=\"none\"/>\n",
              "    <path d=\"M18.56 5.44l.94 2.06.94-2.06 2.06-.94-2.06-.94-.94-2.06-.94 2.06-2.06.94zm-11 1L8.5 8.5l.94-2.06 2.06-.94-2.06-.94L8.5 2.5l-.94 2.06-2.06.94zm10 10l.94 2.06.94-2.06 2.06-.94-2.06-.94-.94-2.06-.94 2.06-2.06.94z\"/><path d=\"M17.41 7.96l-1.37-1.37c-.4-.4-.92-.59-1.43-.59-.52 0-1.04.2-1.43.59L10.3 9.45l-7.72 7.72c-.78.78-.78 2.05 0 2.83L4 21.41c.39.39.9.59 1.41.59.51 0 1.02-.2 1.41-.59l7.78-7.78 2.81-2.81c.8-.78.8-2.07 0-2.86zM5.41 20L4 18.59l7.72-7.72 1.47 1.35L5.41 20z\"/>\n",
              "  </svg>\n",
              "      </button>\n",
              "      \n",
              "  <style>\n",
              "    .colab-df-container {\n",
              "      display:flex;\n",
              "      flex-wrap:wrap;\n",
              "      gap: 12px;\n",
              "    }\n",
              "\n",
              "    .colab-df-convert {\n",
              "      background-color: #E8F0FE;\n",
              "      border: none;\n",
              "      border-radius: 50%;\n",
              "      cursor: pointer;\n",
              "      display: none;\n",
              "      fill: #1967D2;\n",
              "      height: 32px;\n",
              "      padding: 0 0 0 0;\n",
              "      width: 32px;\n",
              "    }\n",
              "\n",
              "    .colab-df-convert:hover {\n",
              "      background-color: #E2EBFA;\n",
              "      box-shadow: 0px 1px 2px rgba(60, 64, 67, 0.3), 0px 1px 3px 1px rgba(60, 64, 67, 0.15);\n",
              "      fill: #174EA6;\n",
              "    }\n",
              "\n",
              "    [theme=dark] .colab-df-convert {\n",
              "      background-color: #3B4455;\n",
              "      fill: #D2E3FC;\n",
              "    }\n",
              "\n",
              "    [theme=dark] .colab-df-convert:hover {\n",
              "      background-color: #434B5C;\n",
              "      box-shadow: 0px 1px 3px 1px rgba(0, 0, 0, 0.15);\n",
              "      filter: drop-shadow(0px 1px 2px rgba(0, 0, 0, 0.3));\n",
              "      fill: #FFFFFF;\n",
              "    }\n",
              "  </style>\n",
              "\n",
              "      <script>\n",
              "        const buttonEl =\n",
              "          document.querySelector('#df-63dea3ef-f233-482e-9b99-add6b8b73a7c button.colab-df-convert');\n",
              "        buttonEl.style.display =\n",
              "          google.colab.kernel.accessAllowed ? 'block' : 'none';\n",
              "\n",
              "        async function convertToInteractive(key) {\n",
              "          const element = document.querySelector('#df-63dea3ef-f233-482e-9b99-add6b8b73a7c');\n",
              "          const dataTable =\n",
              "            await google.colab.kernel.invokeFunction('convertToInteractive',\n",
              "                                                     [key], {});\n",
              "          if (!dataTable) return;\n",
              "\n",
              "          const docLinkHtml = 'Like what you see? Visit the ' +\n",
              "            '<a target=\"_blank\" href=https://colab.research.google.com/notebooks/data_table.ipynb>data table notebook</a>'\n",
              "            + ' to learn more about interactive tables.';\n",
              "          element.innerHTML = '';\n",
              "          dataTable['output_type'] = 'display_data';\n",
              "          await google.colab.output.renderOutput(dataTable, element);\n",
              "          const docLink = document.createElement('div');\n",
              "          docLink.innerHTML = docLinkHtml;\n",
              "          element.appendChild(docLink);\n",
              "        }\n",
              "      </script>\n",
              "    </div>\n",
              "  </div>\n",
              "  "
            ]
          },
          "metadata": {},
          "execution_count": 15
        }
      ]
    },
    {
      "cell_type": "code",
      "source": [
        "df.info()"
      ],
      "metadata": {
        "colab": {
          "base_uri": "https://localhost:8080/"
        },
        "id": "eCcwHvHsQLnG",
        "outputId": "26e1e24d-26a2-43b9-95e0-47add51aa87a"
      },
      "execution_count": 16,
      "outputs": [
        {
          "output_type": "stream",
          "name": "stdout",
          "text": [
            "<class 'pandas.core.frame.DataFrame'>\n",
            "RangeIndex: 913 entries, 0 to 912\n",
            "Data columns (total 2 columns):\n",
            " #   Column    Non-Null Count  Dtype  \n",
            "---  ------    --------------  -----  \n",
            " 0   DATE      913 non-null    object \n",
            " 1   CPIAUCSL  913 non-null    float64\n",
            "dtypes: float64(1), object(1)\n",
            "memory usage: 14.4+ KB\n"
          ]
        }
      ]
    },
    {
      "cell_type": "code",
      "source": [
        "df['DATE'] = pd.to_datetime(df.DATE)\n"
      ],
      "metadata": {
        "id": "m81TfgULQO1o"
      },
      "execution_count": 19,
      "outputs": []
    },
    {
      "cell_type": "code",
      "source": [
        "df=df.set_index(\"DATE\")"
      ],
      "metadata": {
        "id": "EcyvQsDVQWl-"
      },
      "execution_count": 22,
      "outputs": []
    },
    {
      "cell_type": "code",
      "source": [
        "df.plot()"
      ],
      "metadata": {
        "colab": {
          "base_uri": "https://localhost:8080/",
          "height": 296
        },
        "id": "d1QOjFAlOwqn",
        "outputId": "d02a5624-12d4-415b-f947-186d26b10b35"
      },
      "execution_count": 23,
      "outputs": [
        {
          "output_type": "execute_result",
          "data": {
            "text/plain": [
              "<AxesSubplot:xlabel='DATE'>"
            ]
          },
          "metadata": {},
          "execution_count": 23
        },
        {
          "output_type": "display_data",
          "data": {
            "text/plain": [
              "<Figure size 432x288 with 1 Axes>"
            ],
            "image/png": "[encoded data removed]"
          },
          "metadata": {
            "needs_background": "light"
          }
        }
      ]
    },
    {
      "cell_type": "code",
      "source": [
        "#The following line calculates the monthly rate of change\n",
        "df_chg = (df/df.shift(1)-1).dropna()"
      ],
      "metadata": {
        "id": "EQAv1vxqOzUT"
      },
      "execution_count": 25,
      "outputs": []
    },
    {
      "cell_type": "code",
      "source": [
        "df_chg"
      ],
      "metadata": {
        "colab": {
          "base_uri": "https://localhost:8080/",
          "height": 455
        },
        "id": "oYG2hx_HQmxm",
        "outputId": "5740a426-e5a6-40d7-d449-fb192b430881"
      },
      "execution_count": 26,
      "outputs": [
        {
          "output_type": "execute_result",
          "data": {
            "text/plain": [
              "            CPIAUCSL\n",
              "DATE                \n",
              "1947-02-01  0.006518\n",
              "1947-03-01  0.017576\n",
              "1947-04-01  0.000000\n",
              "1947-05-01 -0.002273\n",
              "1947-06-01  0.005923\n",
              "...              ...\n",
              "2022-09-01  0.004128\n",
              "2022-10-01  0.004883\n",
              "2022-11-01  0.002050\n",
              "2022-12-01  0.001313\n",
              "2023-01-01  0.005171\n",
              "\n",
              "[912 rows x 1 columns]"
            ],
            "text/html": [
              "\n",
              "  <div id=\"df-a4fe4f32-4064-4d04-9326-365ff9e22758\">\n",
              "    <div class=\"colab-df-container\">\n",
              "      <div>\n",
              "<style scoped>\n",
              "    .dataframe tbody tr th:only-of-type {\n",
              "        vertical-align: middle;\n",
              "    }\n",
              "\n",
              "    .dataframe tbody tr th {\n",
              "        vertical-align: top;\n",
              "    }\n",
              "\n",
              "    .dataframe thead th {\n",
              "        text-align: right;\n",
              "    }\n",
              "</style>\n",
              "<table border=\"1\" class=\"dataframe\">\n",
              "  <thead>\n",
              "    <tr style=\"text-align: right;\">\n",
              "      <th></th>\n",
              "      <th>CPIAUCSL</th>\n",
              "    </tr>\n",
              "    <tr>\n",
              "      <th>DATE</th>\n",
              "      <th></th>\n",
              "    </tr>\n",
              "  </thead>\n",
              "  <tbody>\n",
              "    <tr>\n",
              "      <th>1947-02-01</th>\n",
              "      <td>0.006518</td>\n",
              "    </tr>\n",
              "    <tr>\n",
              "      <th>1947-03-01</th>\n",
              "      <td>0.017576</td>\n",
              "    </tr>\n",
              "    <tr>\n",
              "      <th>1947-04-01</th>\n",
              "      <td>0.000000</td>\n",
              "    </tr>\n",
              "    <tr>\n",
              "      <th>1947-05-01</th>\n",
              "      <td>-0.002273</td>\n",
              "    </tr>\n",
              "    <tr>\n",
              "      <th>1947-06-01</th>\n",
              "      <td>0.005923</td>\n",
              "    </tr>\n",
              "    <tr>\n",
              "      <th>...</th>\n",
              "      <td>...</td>\n",
              "    </tr>\n",
              "    <tr>\n",
              "      <th>2022-09-01</th>\n",
              "      <td>0.004128</td>\n",
              "    </tr>\n",
              "    <tr>\n",
              "      <th>2022-10-01</th>\n",
              "      <td>0.004883</td>\n",
              "    </tr>\n",
              "    <tr>\n",
              "      <th>2022-11-01</th>\n",
              "      <td>0.002050</td>\n",
              "    </tr>\n",
              "    <tr>\n",
              "      <th>2022-12-01</th>\n",
              "      <td>0.001313</td>\n",
              "    </tr>\n",
              "    <tr>\n",
              "      <th>2023-01-01</th>\n",
              "      <td>0.005171</td>\n",
              "    </tr>\n",
              "  </tbody>\n",
              "</table>\n",
              "<p>912 rows × 1 columns</p>\n",
              "</div>\n",
              "      <button class=\"colab-df-convert\" onclick=\"convertToInteractive('df-a4fe4f32-4064-4d04-9326-365ff9e22758')\"\n",
              "              title=\"Convert this dataframe to an interactive table.\"\n",
              "              style=\"display:none;\">\n",
              "        \n",
              "  <svg xmlns=\"http://www.w3.org/2000/svg\" height=\"24px\"viewBox=\"0 0 24 24\"\n",
              "       width=\"24px\">\n",
              "    <path d=\"M0 0h24v24H0V0z\" fill=\"none\"/>\n",
              "    <path d=\"M18.56 5.44l.94 2.06.94-2.06 2.06-.94-2.06-.94-.94-2.06-.94 2.06-2.06.94zm-11 1L8.5 8.5l.94-2.06 2.06-.94-2.06-.94L8.5 2.5l-.94 2.06-2.06.94zm10 10l.94 2.06.94-2.06 2.06-.94-2.06-.94-.94-2.06-.94 2.06-2.06.94z\"/><path d=\"M17.41 7.96l-1.37-1.37c-.4-.4-.92-.59-1.43-.59-.52 0-1.04.2-1.43.59L10.3 9.45l-7.72 7.72c-.78.78-.78 2.05 0 2.83L4 21.41c.39.39.9.59 1.41.59.51 0 1.02-.2 1.41-.59l7.78-7.78 2.81-2.81c.8-.78.8-2.07 0-2.86zM5.41 20L4 18.59l7.72-7.72 1.47 1.35L5.41 20z\"/>\n",
              "  </svg>\n",
              "      </button>\n",
              "      \n",
              "  <style>\n",
              "    .colab-df-container {\n",
              "      display:flex;\n",
              "      flex-wrap:wrap;\n",
              "      gap: 12px;\n",
              "    }\n",
              "\n",
              "    .colab-df-convert {\n",
              "      background-color: #E8F0FE;\n",
              "      border: none;\n",
              "      border-radius: 50%;\n",
              "      cursor: pointer;\n",
              "      display: none;\n",
              "      fill: #1967D2;\n",
              "      height: 32px;\n",
              "      padding: 0 0 0 0;\n",
              "      width: 32px;\n",
              "    }\n",
              "\n",
              "    .colab-df-convert:hover {\n",
              "      background-color: #E2EBFA;\n",
              "      box-shadow: 0px 1px 2px rgba(60, 64, 67, 0.3), 0px 1px 3px 1px rgba(60, 64, 67, 0.15);\n",
              "      fill: #174EA6;\n",
              "    }\n",
              "\n",
              "    [theme=dark] .colab-df-convert {\n",
              "      background-color: #3B4455;\n",
              "      fill: #D2E3FC;\n",
              "    }\n",
              "\n",
              "    [theme=dark] .colab-df-convert:hover {\n",
              "      background-color: #434B5C;\n",
              "      box-shadow: 0px 1px 3px 1px rgba(0, 0, 0, 0.15);\n",
              "      filter: drop-shadow(0px 1px 2px rgba(0, 0, 0, 0.3));\n",
              "      fill: #FFFFFF;\n",
              "    }\n",
              "  </style>\n",
              "\n",
              "      <script>\n",
              "        const buttonEl =\n",
              "          document.querySelector('#df-a4fe4f32-4064-4d04-9326-365ff9e22758 button.colab-df-convert');\n",
              "        buttonEl.style.display =\n",
              "          google.colab.kernel.accessAllowed ? 'block' : 'none';\n",
              "\n",
              "        async function convertToInteractive(key) {\n",
              "          const element = document.querySelector('#df-a4fe4f32-4064-4d04-9326-365ff9e22758');\n",
              "          const dataTable =\n",
              "            await google.colab.kernel.invokeFunction('convertToInteractive',\n",
              "                                                     [key], {});\n",
              "          if (!dataTable) return;\n",
              "\n",
              "          const docLinkHtml = 'Like what you see? Visit the ' +\n",
              "            '<a target=\"_blank\" href=https://colab.research.google.com/notebooks/data_table.ipynb>data table notebook</a>'\n",
              "            + ' to learn more about interactive tables.';\n",
              "          element.innerHTML = '';\n",
              "          dataTable['output_type'] = 'display_data';\n",
              "          await google.colab.output.renderOutput(dataTable, element);\n",
              "          const docLink = document.createElement('div');\n",
              "          docLink.innerHTML = docLinkHtml;\n",
              "          element.appendChild(docLink);\n",
              "        }\n",
              "      </script>\n",
              "    </div>\n",
              "  </div>\n",
              "  "
            ]
          },
          "metadata": {},
          "execution_count": 26
        }
      ]
    },
    {
      "cell_type": "code",
      "source": [
        "df_chg.plot()"
      ],
      "metadata": {
        "colab": {
          "base_uri": "https://localhost:8080/",
          "height": 296
        },
        "id": "OkCal6jkO_w4",
        "outputId": "8fc87845-96bb-4e0e-ac87-b51a3c93b6a7"
      },
      "execution_count": 27,
      "outputs": [
        {
          "output_type": "execute_result",
          "data": {
            "text/plain": [
              "<AxesSubplot:xlabel='DATE'>"
            ]
          },
          "metadata": {},
          "execution_count": 27
        },
        {
          "output_type": "display_data",
          "data": {
            "text/plain": [
              "<Figure size 432x288 with 1 Axes>"
            ],
            "image/png": "[encoded data removed]"
          },
          "metadata": {
            "needs_background": "light"
          }
        }
      ]
    },
    {
      "cell_type": "markdown",
      "source": [
        "We can do a check for autocorrelation by looking at the correlation of the monthly change in CPI against its lagged values. We can use the shift method to create the lags."
      ],
      "metadata": {
        "id": "ueiQtCagQx4w"
      }
    },
    {
      "cell_type": "code",
      "source": [
        "df_chg.rename({'CPIAUCSL': 'unlagged'}, axis=1, inplace=True)\n",
        "lags = 10\n",
        "for i in range(lags):\n",
        "    if i > 0:\n",
        "        df_chg['lag_'+str(i)] = df_chg['unlagged'].shift(i)"
      ],
      "metadata": {
        "id": "Znyjs9cJQtJW"
      },
      "execution_count": 33,
      "outputs": []
    },
    {
      "cell_type": "markdown",
      "source": [
        "Plotting the correlations between the unlagged values of CPI change against its various lags, we see that there’s significant autocorrelation:"
      ],
      "metadata": {
        "id": "UKiL-PevRJgW"
      }
    },
    {
      "cell_type": "code",
      "source": [
        "df_chg"
      ],
      "metadata": {
        "colab": {
          "base_uri": "https://localhost:8080/",
          "height": 455
        },
        "id": "9FcUndbBRKJY",
        "outputId": "f2f3ecb4-494f-449e-aaf2-a603fd1ae050"
      },
      "execution_count": 30,
      "outputs": [
        {
          "output_type": "execute_result",
          "data": {
            "text/plain": [
              "            unlagged     lag_1     lag_2     lag_3     lag_4     lag_5  \\\n",
              "DATE                                                                     \n",
              "1947-02-01  0.006518       NaN       NaN       NaN       NaN       NaN   \n",
              "1947-03-01  0.017576  0.006518       NaN       NaN       NaN       NaN   \n",
              "1947-04-01  0.000000  0.017576  0.006518       NaN       NaN       NaN   \n",
              "1947-05-01 -0.002273  0.000000  0.017576  0.006518       NaN       NaN   \n",
              "1947-06-01  0.005923 -0.002273  0.000000  0.017576  0.006518       NaN   \n",
              "...              ...       ...       ...       ...       ...       ...   \n",
              "2022-09-01  0.004128  0.002349 -0.000339  0.011879  0.009206  0.003962   \n",
              "2022-10-01  0.004883  0.004128  0.002349 -0.000339  0.011879  0.009206   \n",
              "2022-11-01  0.002050  0.004883  0.004128  0.002349 -0.000339  0.011879   \n",
              "2022-12-01  0.001313  0.002050  0.004883  0.004128  0.002349 -0.000339   \n",
              "2023-01-01  0.005171  0.001313  0.002050  0.004883  0.004128  0.002349   \n",
              "\n",
              "               lag_6     lag_7     lag_8     lag_9  \n",
              "DATE                                                \n",
              "1947-02-01       NaN       NaN       NaN       NaN  \n",
              "1947-03-01       NaN       NaN       NaN       NaN  \n",
              "1947-04-01       NaN       NaN       NaN       NaN  \n",
              "1947-05-01       NaN       NaN       NaN       NaN  \n",
              "1947-06-01       NaN       NaN       NaN       NaN  \n",
              "...              ...       ...       ...       ...  \n",
              "2022-09-01  0.010056  0.007116  0.006095  0.007807  \n",
              "2022-10-01  0.003962  0.010056  0.007116  0.006095  \n",
              "2022-11-01  0.009206  0.003962  0.010056  0.007116  \n",
              "2022-12-01  0.011879  0.009206  0.003962  0.010056  \n",
              "2023-01-01 -0.000339  0.011879  0.009206  0.003962  \n",
              "\n",
              "[912 rows x 10 columns]"
            ],
            "text/html": [
              "\n",
              "  <div id=\"df-d6b33bdb-bf9e-444a-8b90-b615c30ce680\">\n",
              "    <div class=\"colab-df-container\">\n",
              "      <div>\n",
              "<style scoped>\n",
              "    .dataframe tbody tr th:only-of-type {\n",
              "        vertical-align: middle;\n",
              "    }\n",
              "\n",
              "    .dataframe tbody tr th {\n",
              "        vertical-align: top;\n",
              "    }\n",
              "\n",
              "    .dataframe thead th {\n",
              "        text-align: right;\n",
              "    }\n",
              "</style>\n",
              "<table border=\"1\" class=\"dataframe\">\n",
              "  <thead>\n",
              "    <tr style=\"text-align: right;\">\n",
              "      <th></th>\n",
              "      <th>unlagged</th>\n",
              "      <th>lag_1</th>\n",
              "      <th>lag_2</th>\n",
              "      <th>lag_3</th>\n",
              "      <th>lag_4</th>\n",
              "      <th>lag_5</th>\n",
              "      <th>lag_6</th>\n",
              "      <th>lag_7</th>\n",
              "      <th>lag_8</th>\n",
              "      <th>lag_9</th>\n",
              "    </tr>\n",
              "    <tr>\n",
              "      <th>DATE</th>\n",
              "      <th></th>\n",
              "      <th></th>\n",
              "      <th></th>\n",
              "      <th></th>\n",
              "      <th></th>\n",
              "      <th></th>\n",
              "      <th></th>\n",
              "      <th></th>\n",
              "      <th></th>\n",
              "      <th></th>\n",
              "    </tr>\n",
              "  </thead>\n",
              "  <tbody>\n",
              "    <tr>\n",
              "      <th>1947-02-01</th>\n",
              "      <td>0.006518</td>\n",
              "      <td>NaN</td>\n",
              "      <td>NaN</td>\n",
              "      <td>NaN</td>\n",
              "      <td>NaN</td>\n",
              "      <td>NaN</td>\n",
              "      <td>NaN</td>\n",
              "      <td>NaN</td>\n",
              "      <td>NaN</td>\n",
              "      <td>NaN</td>\n",
              "    </tr>\n",
              "    <tr>\n",
              "      <th>1947-03-01</th>\n",
              "      <td>0.017576</td>\n",
              "      <td>0.006518</td>\n",
              "      <td>NaN</td>\n",
              "      <td>NaN</td>\n",
              "      <td>NaN</td>\n",
              "      <td>NaN</td>\n",
              "      <td>NaN</td>\n",
              "      <td>NaN</td>\n",
              "      <td>NaN</td>\n",
              "      <td>NaN</td>\n",
              "    </tr>\n",
              "    <tr>\n",
              "      <th>1947-04-01</th>\n",
              "      <td>0.000000</td>\n",
              "      <td>0.017576</td>\n",
              "      <td>0.006518</td>\n",
              "      <td>NaN</td>\n",
              "      <td>NaN</td>\n",
              "      <td>NaN</td>\n",
              "      <td>NaN</td>\n",
              "      <td>NaN</td>\n",
              "      <td>NaN</td>\n",
              "      <td>NaN</td>\n",
              "    </tr>\n",
              "    <tr>\n",
              "      <th>1947-05-01</th>\n",
              "      <td>-0.002273</td>\n",
              "      <td>0.000000</td>\n",
              "      <td>0.017576</td>\n",
              "      <td>0.006518</td>\n",
              "      <td>NaN</td>\n",
              "      <td>NaN</td>\n",
              "      <td>NaN</td>\n",
              "      <td>NaN</td>\n",
              "      <td>NaN</td>\n",
              "      <td>NaN</td>\n",
              "    </tr>\n",
              "    <tr>\n",
              "      <th>1947-06-01</th>\n",
              "      <td>0.005923</td>\n",
              "      <td>-0.002273</td>\n",
              "      <td>0.000000</td>\n",
              "      <td>0.017576</td>\n",
              "      <td>0.006518</td>\n",
              "      <td>NaN</td>\n",
              "      <td>NaN</td>\n",
              "      <td>NaN</td>\n",
              "      <td>NaN</td>\n",
              "      <td>NaN</td>\n",
              "    </tr>\n",
              "    <tr>\n",
              "      <th>...</th>\n",
              "      <td>...</td>\n",
              "      <td>...</td>\n",
              "      <td>...</td>\n",
              "      <td>...</td>\n",
              "      <td>...</td>\n",
              "      <td>...</td>\n",
              "      <td>...</td>\n",
              "      <td>...</td>\n",
              "      <td>...</td>\n",
              "      <td>...</td>\n",
              "    </tr>\n",
              "    <tr>\n",
              "      <th>2022-09-01</th>\n",
              "      <td>0.004128</td>\n",
              "      <td>0.002349</td>\n",
              "      <td>-0.000339</td>\n",
              "      <td>0.011879</td>\n",
              "      <td>0.009206</td>\n",
              "      <td>0.003962</td>\n",
              "      <td>0.010056</td>\n",
              "      <td>0.007116</td>\n",
              "      <td>0.006095</td>\n",
              "      <td>0.007807</td>\n",
              "    </tr>\n",
              "    <tr>\n",
              "      <th>2022-10-01</th>\n",
              "      <td>0.004883</td>\n",
              "      <td>0.004128</td>\n",
              "      <td>0.002349</td>\n",
              "      <td>-0.000339</td>\n",
              "      <td>0.011879</td>\n",
              "      <td>0.009206</td>\n",
              "      <td>0.003962</td>\n",
              "      <td>0.010056</td>\n",
              "      <td>0.007116</td>\n",
              "      <td>0.006095</td>\n",
              "    </tr>\n",
              "    <tr>\n",
              "      <th>2022-11-01</th>\n",
              "      <td>0.002050</td>\n",
              "      <td>0.004883</td>\n",
              "      <td>0.004128</td>\n",
              "      <td>0.002349</td>\n",
              "      <td>-0.000339</td>\n",
              "      <td>0.011879</td>\n",
              "      <td>0.009206</td>\n",
              "      <td>0.003962</td>\n",
              "      <td>0.010056</td>\n",
              "      <td>0.007116</td>\n",
              "    </tr>\n",
              "    <tr>\n",
              "      <th>2022-12-01</th>\n",
              "      <td>0.001313</td>\n",
              "      <td>0.002050</td>\n",
              "      <td>0.004883</td>\n",
              "      <td>0.004128</td>\n",
              "      <td>0.002349</td>\n",
              "      <td>-0.000339</td>\n",
              "      <td>0.011879</td>\n",
              "      <td>0.009206</td>\n",
              "      <td>0.003962</td>\n",
              "      <td>0.010056</td>\n",
              "    </tr>\n",
              "    <tr>\n",
              "      <th>2023-01-01</th>\n",
              "      <td>0.005171</td>\n",
              "      <td>0.001313</td>\n",
              "      <td>0.002050</td>\n",
              "      <td>0.004883</td>\n",
              "      <td>0.004128</td>\n",
              "      <td>0.002349</td>\n",
              "      <td>-0.000339</td>\n",
              "      <td>0.011879</td>\n",
              "      <td>0.009206</td>\n",
              "      <td>0.003962</td>\n",
              "    </tr>\n",
              "  </tbody>\n",
              "</table>\n",
              "<p>912 rows × 10 columns</p>\n",
              "</div>\n",
              "      <button class=\"colab-df-convert\" onclick=\"convertToInteractive('df-d6b33bdb-bf9e-444a-8b90-b615c30ce680')\"\n",
              "              title=\"Convert this dataframe to an interactive table.\"\n",
              "              style=\"display:none;\">\n",
              "        \n",
              "  <svg xmlns=\"http://www.w3.org/2000/svg\" height=\"24px\"viewBox=\"0 0 24 24\"\n",
              "       width=\"24px\">\n",
              "    <path d=\"M0 0h24v24H0V0z\" fill=\"none\"/>\n",
              "    <path d=\"M18.56 5.44l.94 2.06.94-2.06 2.06-.94-2.06-.94-.94-2.06-.94 2.06-2.06.94zm-11 1L8.5 8.5l.94-2.06 2.06-.94-2.06-.94L8.5 2.5l-.94 2.06-2.06.94zm10 10l.94 2.06.94-2.06 2.06-.94-2.06-.94-.94-2.06-.94 2.06-2.06.94z\"/><path d=\"M17.41 7.96l-1.37-1.37c-.4-.4-.92-.59-1.43-.59-.52 0-1.04.2-1.43.59L10.3 9.45l-7.72 7.72c-.78.78-.78 2.05 0 2.83L4 21.41c.39.39.9.59 1.41.59.51 0 1.02-.2 1.41-.59l7.78-7.78 2.81-2.81c.8-.78.8-2.07 0-2.86zM5.41 20L4 18.59l7.72-7.72 1.47 1.35L5.41 20z\"/>\n",
              "  </svg>\n",
              "      </button>\n",
              "      \n",
              "  <style>\n",
              "    .colab-df-container {\n",
              "      display:flex;\n",
              "      flex-wrap:wrap;\n",
              "      gap: 12px;\n",
              "    }\n",
              "\n",
              "    .colab-df-convert {\n",
              "      background-color: #E8F0FE;\n",
              "      border: none;\n",
              "      border-radius: 50%;\n",
              "      cursor: pointer;\n",
              "      display: none;\n",
              "      fill: #1967D2;\n",
              "      height: 32px;\n",
              "      padding: 0 0 0 0;\n",
              "      width: 32px;\n",
              "    }\n",
              "\n",
              "    .colab-df-convert:hover {\n",
              "      background-color: #E2EBFA;\n",
              "      box-shadow: 0px 1px 2px rgba(60, 64, 67, 0.3), 0px 1px 3px 1px rgba(60, 64, 67, 0.15);\n",
              "      fill: #174EA6;\n",
              "    }\n",
              "\n",
              "    [theme=dark] .colab-df-convert {\n",
              "      background-color: #3B4455;\n",
              "      fill: #D2E3FC;\n",
              "    }\n",
              "\n",
              "    [theme=dark] .colab-df-convert:hover {\n",
              "      background-color: #434B5C;\n",
              "      box-shadow: 0px 1px 3px 1px rgba(0, 0, 0, 0.15);\n",
              "      filter: drop-shadow(0px 1px 2px rgba(0, 0, 0, 0.3));\n",
              "      fill: #FFFFFF;\n",
              "    }\n",
              "  </style>\n",
              "\n",
              "      <script>\n",
              "        const buttonEl =\n",
              "          document.querySelector('#df-d6b33bdb-bf9e-444a-8b90-b615c30ce680 button.colab-df-convert');\n",
              "        buttonEl.style.display =\n",
              "          google.colab.kernel.accessAllowed ? 'block' : 'none';\n",
              "\n",
              "        async function convertToInteractive(key) {\n",
              "          const element = document.querySelector('#df-d6b33bdb-bf9e-444a-8b90-b615c30ce680');\n",
              "          const dataTable =\n",
              "            await google.colab.kernel.invokeFunction('convertToInteractive',\n",
              "                                                     [key], {});\n",
              "          if (!dataTable) return;\n",
              "\n",
              "          const docLinkHtml = 'Like what you see? Visit the ' +\n",
              "            '<a target=\"_blank\" href=https://colab.research.google.com/notebooks/data_table.ipynb>data table notebook</a>'\n",
              "            + ' to learn more about interactive tables.';\n",
              "          element.innerHTML = '';\n",
              "          dataTable['output_type'] = 'display_data';\n",
              "          await google.colab.output.renderOutput(dataTable, element);\n",
              "          const docLink = document.createElement('div');\n",
              "          docLink.innerHTML = docLinkHtml;\n",
              "          element.appendChild(docLink);\n",
              "        }\n",
              "      </script>\n",
              "    </div>\n",
              "  </div>\n",
              "  "
            ]
          },
          "metadata": {},
          "execution_count": 30
        }
      ]
    },
    {
      "cell_type": "code",
      "source": [
        "data = {'C':20, 'C++':15, 'Java':30,\n",
        "        'Python':35}\n",
        "courses = list(data.keys())\n",
        "values = list(data.values())\n",
        "  \n",
        "fig = plt.figure(figsize = (10, 5))\n",
        " \n",
        "# creating the bar plot\n",
        "plt.bar(courses, values, color ='maroon',\n",
        "        width = 0.4)\n",
        " \n",
        "plt.xlabel(\"Courses offered\")\n",
        "plt.ylabel(\"No. of students enrolled\")\n",
        "plt.title(\"Students enrolled in different courses\")\n",
        "plt.show()"
      ],
      "metadata": {
        "colab": {
          "base_uri": "https://localhost:8080/",
          "height": 350
        },
        "id": "fFY-DqJsSd4e",
        "outputId": "b43e35a4-3616-48bd-ee19-3f4f8dcd118a"
      },
      "execution_count": 36,
      "outputs": [
        {
          "output_type": "display_data",
          "data": {
            "text/plain": [
              "<Figure size 720x360 with 1 Axes>"
            ],
            "image/png": "[encoded data removed]"
          },
          "metadata": {
            "needs_background": "light"
          }
        }
      ]
    },
    {
      "cell_type": "code",
      "source": [
        "courses"
      ],
      "metadata": {
        "colab": {
          "base_uri": "https://localhost:8080/"
        },
        "id": "Qm-ZlCdEUe-X",
        "outputId": "95638da4-6cdf-4d86-8dd3-104b8485806e"
      },
      "execution_count": 47,
      "outputs": [
        {
          "output_type": "execute_result",
          "data": {
            "text/plain": [
              "['C', 'C++', 'Java', 'Python']"
            ]
          },
          "metadata": {},
          "execution_count": 47
        }
      ]
    },
    {
      "cell_type": "code",
      "source": [
        "values"
      ],
      "metadata": {
        "colab": {
          "base_uri": "https://localhost:8080/"
        },
        "id": "nkeG0HhsWOZz",
        "outputId": "b7524215-c412-481a-8fa2-4acc039b9c82"
      },
      "execution_count": 63,
      "outputs": [
        {
          "output_type": "execute_result",
          "data": {
            "text/plain": [
              "[20, 15, 30, 35]"
            ]
          },
          "metadata": {},
          "execution_count": 63
        }
      ]
    },
    {
      "cell_type": "code",
      "source": [
        "df_chg.values.T.shape"
      ],
      "metadata": {
        "colab": {
          "base_uri": "https://localhost:8080/"
        },
        "id": "uZo4n57SUF73",
        "outputId": "d6a87e90-30a3-4431-a272-37612d376a47"
      },
      "execution_count": 43,
      "outputs": [
        {
          "output_type": "execute_result",
          "data": {
            "text/plain": [
              "(10, 912)"
            ]
          },
          "metadata": {},
          "execution_count": 43
        }
      ]
    },
    {
      "cell_type": "code",
      "source": [
        "import statsmodels.api as sm\n",
        "\n",
        "#calculate autocorrelations\n",
        "sm.tsa.acf(df_chg.unlagged,nlags= 10)"
      ],
      "metadata": {
        "colab": {
          "base_uri": "https://localhost:8080/"
        },
        "id": "aiMSwq70U-Hh",
        "outputId": "21f1a1b8-cd79-4cd4-89fb-e4e5b91e78ec"
      },
      "execution_count": 57,
      "outputs": [
        {
          "output_type": "execute_result",
          "data": {
            "text/plain": [
              "array([1.        , 0.57658302, 0.41107637, 0.38167121, 0.36172723,\n",
              "       0.35340664, 0.34807998, 0.35503835, 0.34155866, 0.367072  ,\n",
              "       0.38524347])"
            ]
          },
          "metadata": {},
          "execution_count": 57
        }
      ]
    },
    {
      "cell_type": "code",
      "source": [
        "df_chg.columns"
      ],
      "metadata": {
        "colab": {
          "base_uri": "https://localhost:8080/"
        },
        "id": "o4DfSHmRWBD1",
        "outputId": "373aa669-c724-4d6a-beee-2b0729b86dec"
      },
      "execution_count": 60,
      "outputs": [
        {
          "output_type": "execute_result",
          "data": {
            "text/plain": [
              "Index(['unlagged', 'lag_1', 'lag_2', 'lag_3', 'lag_4', 'lag_5', 'lag_6',\n",
              "       'lag_7', 'lag_8', 'lag_9'],\n",
              "      dtype='object')"
            ]
          },
          "metadata": {},
          "execution_count": 60
        }
      ]
    },
    {
      "cell_type": "code",
      "source": [
        "list_=list(sm.tsa.acf(df_chg.unlagged,nlags= 9))\n",
        "list_"
      ],
      "metadata": {
        "colab": {
          "base_uri": "https://localhost:8080/"
        },
        "id": "z9p8cJxYWUWI",
        "outputId": "ae27e113-83ba-4ee0-bd0c-bba12056c57e"
      },
      "execution_count": 67,
      "outputs": [
        {
          "output_type": "execute_result",
          "data": {
            "text/plain": [
              "[1.0,\n",
              " 0.5765830233251932,\n",
              " 0.41107637402253144,\n",
              " 0.3816712132912243,\n",
              " 0.3617272252280481,\n",
              " 0.35340664133875704,\n",
              " 0.34807998447288385,\n",
              " 0.35503834604171236,\n",
              " 0.3415586636025603,\n",
              " 0.3670720014072967]"
            ]
          },
          "metadata": {},
          "execution_count": 67
        }
      ]
    },
    {
      "cell_type": "code",
      "source": [
        "fig = plt.figure(figsize = (10, 5))\n",
        "# Set the figure size - handy for larger output\n",
        "#from matplotlib import pyplot as plt\n",
        "#plt.rcParams[\"figure.figsize\"] = [10, 6]\n",
        "# Set up with a higher resolution screen (useful on Mac)\n",
        "%config InlineBackend.figure_format = 'retina'\n",
        "# creating the bar plot\n",
        "plt.bar(df_chg.columns,list_ ,\n",
        "        width = 0.4)"
      ],
      "metadata": {
        "colab": {
          "base_uri": "https://localhost:8080/",
          "height": 338
        },
        "id": "AcCfIEwRT4zA",
        "outputId": "522791d7-d07a-4109-e828-37dddcfd5bfd"
      },
      "execution_count": 72,
      "outputs": [
        {
          "output_type": "execute_result",
          "data": {
            "text/plain": [
              "<BarContainer object of 10 artists>"
            ]
          },
          "metadata": {},
          "execution_count": 72
        },
        {
          "output_type": "display_data",
          "data": {
            "text/plain": [
              "<Figure size 720x360 with 1 Axes>"
            ],
            "image/png": "[encoded data removed]"
          },
          "metadata": {
            "needs_background": "light"
          }
        }
      ]
    },
    {
      "cell_type": "code",
      "source": [
        "from statsmodels.graphics.tsaplots import plot_acf\n",
        "plot_acf(df_chg.unlagged,lags= 10)"
      ],
      "metadata": {
        "colab": {
          "base_uri": "https://localhost:8080/",
          "height": 545
        },
        "id": "_c6IqXj_RLX_",
        "outputId": "181d5d34-11a5-4776-ccea-8cc747c736bb"
      },
      "execution_count": 59,
      "outputs": [
        {
          "output_type": "execute_result",
          "data": {
            "text/plain": [
              "<Figure size 432x288 with 1 Axes>"
            ],
            "image/png": "[encoded data removed]"
          },
          "metadata": {},
          "execution_count": 59
        },
        {
          "output_type": "display_data",
          "data": {
            "text/plain": [
              "<Figure size 432x288 with 1 Axes>"
            ],
            "image/png": "[encoded data removed]"
          },
          "metadata": {
            "needs_background": "light"
          }
        }
      ]
    },
    {
      "cell_type": "markdown",
      "source": [
        "https://www.shanelynn.ie/bar-plots-in-python-using-pandas-dataframes/"
      ],
      "metadata": {
        "id": "o7pZOSnHXqNI"
      }
    },
    {
      "cell_type": "code",
      "source": [],
      "metadata": {
        "id": "AApEn6IbY6K4"
      },
      "execution_count": 75,
      "outputs": []
    }
  ]
}